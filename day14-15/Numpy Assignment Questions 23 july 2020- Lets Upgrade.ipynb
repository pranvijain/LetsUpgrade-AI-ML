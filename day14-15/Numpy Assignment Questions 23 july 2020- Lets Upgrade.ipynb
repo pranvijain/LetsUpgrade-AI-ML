{
 "cells": [
  {
   "cell_type": "code",
   "execution_count": 3,
   "metadata": {},
   "outputs": [],
   "source": [
    "import numpy as np"
   ]
  },
  {
   "cell_type": "markdown",
   "metadata": {},
   "source": [
    "# 1. Create a 3x3x3 array with random values "
   ]
  },
  {
   "cell_type": "code",
   "execution_count": 5,
   "metadata": {},
   "outputs": [
    {
     "data": {
      "text/plain": [
       "array([[[0.26718247, 0.23218767, 0.69266438],\n",
       "        [0.79715212, 0.47867417, 0.68977429],\n",
       "        [0.05419011, 0.91375827, 0.77246823]],\n",
       "\n",
       "       [[0.51060531, 0.88640347, 0.89957032],\n",
       "        [0.49487412, 0.57663347, 0.72671473],\n",
       "        [0.5958612 , 0.10813048, 0.47034325]],\n",
       "\n",
       "       [[0.27243415, 0.36935996, 0.25491733],\n",
       "        [0.96936044, 0.80518601, 0.06422798],\n",
       "        [0.67064864, 0.61674109, 0.26690026]]])"
      ]
     },
     "execution_count": 5,
     "metadata": {},
     "output_type": "execute_result"
    }
   ],
   "source": [
    "np.random.random((3,3,3))"
   ]
  },
  {
   "cell_type": "markdown",
   "metadata": {},
   "source": [
    "# 2.Create a 5x5 matrix with values 1,2,3,4 just below the diagonal"
   ]
  },
  {
   "cell_type": "code",
   "execution_count": 4,
   "metadata": {},
   "outputs": [
    {
     "data": {
      "text/plain": [
       "array([[1, 0, 0, 0],\n",
       "       [1, 2, 0, 0],\n",
       "       [1, 2, 3, 0],\n",
       "       [1, 2, 3, 4]])"
      ]
     },
     "execution_count": 4,
     "metadata": {},
     "output_type": "execute_result"
    }
   ],
   "source": [
    "np.tril([1,2,3,4])"
   ]
  },
  {
   "cell_type": "markdown",
   "metadata": {},
   "source": [
    "# 3.Create a 8x8 matrix and fill it with a checkerboard pattern"
   ]
  },
  {
   "cell_type": "code",
   "execution_count": 23,
   "metadata": {},
   "outputs": [
    {
     "data": {
      "text/plain": [
       "array([[0., 1., 0., 1., 0., 1., 0., 1.],\n",
       "       [1., 0., 1., 0., 1., 0., 1., 0.],\n",
       "       [0., 1., 0., 1., 0., 1., 0., 1.],\n",
       "       [1., 0., 1., 0., 1., 0., 1., 0.],\n",
       "       [0., 1., 0., 1., 0., 1., 0., 1.],\n",
       "       [1., 0., 1., 0., 1., 0., 1., 0.],\n",
       "       [0., 1., 0., 1., 0., 1., 0., 1.],\n",
       "       [1., 0., 1., 0., 1., 0., 1., 0.]])"
      ]
     },
     "execution_count": 23,
     "metadata": {},
     "output_type": "execute_result"
    }
   ],
   "source": [
    "arr=np.zeros((8,8))\n",
    "arr[1::2, ::2]=1\n",
    "arr[::2,1::2]=1\n",
    "arr"
   ]
  },
  {
   "cell_type": "markdown",
   "metadata": {},
   "source": [
    "# 4. Normalize a 5x5 random matrix"
   ]
  },
  {
   "cell_type": "code",
   "execution_count": 12,
   "metadata": {},
   "outputs": [
    {
     "name": "stdout",
     "output_type": "stream",
     "text": [
      "original array\n",
      " [[26 99 68 29 29]\n",
      " [45 26 17 50 74]\n",
      " [86  0 39 92 81]\n",
      " [96 28 13 39 32]\n",
      " [58 71 89 56 32]]\n",
      "normalised array\n",
      " [[0.26262626 1.         0.68686869 0.29292929 0.29292929]\n",
      " [0.45454545 0.26262626 0.17171717 0.50505051 0.74747475]\n",
      " [0.86868687 0.         0.39393939 0.92929293 0.81818182]\n",
      " [0.96969697 0.28282828 0.13131313 0.39393939 0.32323232]\n",
      " [0.58585859 0.71717172 0.8989899  0.56565657 0.32323232]]\n"
     ]
    }
   ],
   "source": [
    "arr=np.random.randint(0,100,(5,5))\n",
    "print(\"original array\\n\",arr)\n",
    "arrmax,arrmin=arr.max(),arr.min()\n",
    "print(\"normalised array\\n\",(arr-arrmin)/(arrmax-arrmin))"
   ]
  },
  {
   "cell_type": "markdown",
   "metadata": {},
   "source": [
    "# 5.  How to find common values between two arrays?"
   ]
  },
  {
   "cell_type": "code",
   "execution_count": 6,
   "metadata": {},
   "outputs": [
    {
     "data": {
      "text/plain": [
       "array([3, 4])"
      ]
     },
     "execution_count": 6,
     "metadata": {},
     "output_type": "execute_result"
    }
   ],
   "source": [
    "a=np.array([1,2,3,4])\n",
    "b=np.array([3,4,9,5,6,7])\n",
    "np.intersect1d(a,b)\n"
   ]
  },
  {
   "cell_type": "markdown",
   "metadata": {},
   "source": [
    "# 6.How to get the dates of yesterday, today and tomorrow?"
   ]
  },
  {
   "cell_type": "code",
   "execution_count": 41,
   "metadata": {},
   "outputs": [
    {
     "name": "stdout",
     "output_type": "stream",
     "text": [
      "Yestraday: 2020-07-26\n",
      "Today: 2020-07-27\n",
      "Tomorrow: 2020-07-28\n"
     ]
    }
   ],
   "source": [
    "yesterday= np.datetime64('today', 'D') - np.timedelta64(1, 'D')\n",
    "print(\"Yestraday:\",yesterday)\n",
    "today= np.datetime64('today', 'D')\n",
    "print(\"Today:\",today)\n",
    "tomorrow= np.datetime64('today', 'D') + np.timedelta64(1, 'D')\n",
    "print(\"Tomorrow:\",tomorrow)"
   ]
  },
  {
   "cell_type": "markdown",
   "metadata": {},
   "source": [
    "# 7. Consider two random array A and B, check if they are equal"
   ]
  },
  {
   "cell_type": "code",
   "execution_count": 9,
   "metadata": {},
   "outputs": [
    {
     "name": "stdout",
     "output_type": "stream",
     "text": [
      "First array: [5 7 3 4 5 1]\n",
      "Second array: [2 0 9 8 8 7]\n",
      "False\n"
     ]
    }
   ],
   "source": [
    "a= np.random.randint(0,10,6)\n",
    "print(\"First array:\",a)\n",
    "b= np.random.randint(0,10,6)\n",
    "print(\"Second array:\",b)\n",
    "array_equal = np.allclose(a,b)\n",
    "print(array_equal)"
   ]
  },
  {
   "cell_type": "markdown",
   "metadata": {},
   "source": [
    "# 8.Create random vector of size 10 and replace the maximum value by 0 "
   ]
  },
  {
   "cell_type": "code",
   "execution_count": 23,
   "metadata": {},
   "outputs": [
    {
     "name": "stdout",
     "output_type": "stream",
     "text": [
      "original array [41 51 55 82 89 19 58 23 68 22]\n",
      "new array [41 51 55 82  0 19 58 23 68 22]\n"
     ]
    }
   ],
   "source": [
    "a= np.random.randint(100,size=(10))\n",
    "print(\"original array\",a)\n",
    "a[a.argmax()]=0\n",
    "print(\"new array\",a)\n"
   ]
  },
  {
   "cell_type": "markdown",
   "metadata": {},
   "source": [
    "# 9. How to print all the values of an array?"
   ]
  },
  {
   "cell_type": "code",
   "execution_count": 26,
   "metadata": {},
   "outputs": [
    {
     "name": "stdout",
     "output_type": "stream",
     "text": [
      "[[ 0  1  2  3]\n",
      " [ 4  5  6  7]\n",
      " [ 8  9 10 11]]\n"
     ]
    }
   ],
   "source": [
    "a=np.arange(12).reshape(3,4)\n",
    "np.set_printoptions(threshold=np.nan)\n",
    "print(a)"
   ]
  },
  {
   "cell_type": "markdown",
   "metadata": {},
   "source": [
    "# 10.Subtract the mean of each row of a matrix"
   ]
  },
  {
   "cell_type": "code",
   "execution_count": 45,
   "metadata": {},
   "outputs": [
    {
     "name": "stdout",
     "output_type": "stream",
     "text": [
      "[[61  9  5 59 35]\n",
      " [44 64 72 80  1]\n",
      " [42 35 14 51 43]\n",
      " [98  0 28 47 55]\n",
      " [15 57  1 50 81]]\n",
      "Subtract the mean of each row of the matrix:\n",
      "\n",
      "[[ 27.2 -24.8 -28.8  25.2   1.2]\n",
      " [ -8.2  11.8  19.8  27.8 -51.2]\n",
      " [  5.   -2.  -23.   14.    6. ]\n",
      " [ 52.4 -45.6 -17.6   1.4   9.4]\n",
      " [-25.8  16.2 -39.8   9.2  40.2]]\n"
     ]
    }
   ],
   "source": [
    "x = np.random.randint(0,100, (5,5))\n",
    "print(x)\n",
    "print(\"Subtract the mean of each row of the matrix:\\n\")\n",
    "y = x - x.mean(axis=1, keepdims=True)\n",
    "print(y)"
   ]
  },
  {
   "cell_type": "markdown",
   "metadata": {},
   "source": [
    "# 11.Consider a given vector, how to add 1 to each element indexed by a second vector (be careful with repeated indices)? "
   ]
  },
  {
   "cell_type": "code",
   "execution_count": 10,
   "metadata": {},
   "outputs": [
    {
     "name": "stdout",
     "output_type": "stream",
     "text": [
      "[12  6 39 26 23 99 97 48 66 45 45 68  5 89 23 14 30 40 64 16]\n",
      "[ 5  1 14 17  2 10  9 17  8  9  3 15  7 10  1 12  9  8  4  9]\n",
      "[ 12   8  40  27  24 100  97  49  68  49  47  68   6  89  24  15  30  42\n",
      "  64  16]\n"
     ]
    }
   ],
   "source": [
    "v1 = np.random.randint(0,100,20)\n",
    "print(v1)\n",
    "v2 = np.random.randint(0,len(v1),20)\n",
    "print(v2)\n",
    "v1 += np.bincount(v2, minlength=len(v1))\n",
    "print(v1)"
   ]
  },
  {
   "cell_type": "markdown",
   "metadata": {},
   "source": [
    "# 12.How to get the diagonal of a dot product?"
   ]
  },
  {
   "cell_type": "code",
   "execution_count": 29,
   "metadata": {},
   "outputs": [
    {
     "data": {
      "text/plain": [
       "array([ 9367,  7316, 11857,  8290, 19873])"
      ]
     },
     "execution_count": 29,
     "metadata": {},
     "output_type": "execute_result"
    }
   ],
   "source": [
    "arr=np.random.randint(0,100,(5,5))\n",
    "arr2=np.random.randint(0,100,(5,5))\n",
    "arr3=np.dot(arr,arr2)\n",
    "np.diag(arr3,k=0)"
   ]
  },
  {
   "cell_type": "markdown",
   "metadata": {},
   "source": [
    "# 13.How to find the most frequent value in an array?"
   ]
  },
  {
   "cell_type": "code",
   "execution_count": 30,
   "metadata": {},
   "outputs": [
    {
     "name": "stdout",
     "output_type": "stream",
     "text": [
      "most frequent value 87\n"
     ]
    }
   ],
   "source": [
    "arr4=np.random.randint(0,100,50)\n",
    "print(\"most frequent value\",np.bincount(arr4).argmax())"
   ]
  },
  {
   "cell_type": "markdown",
   "metadata": {},
   "source": [
    "# 14.How to get the n largest values of an array"
   ]
  },
  {
   "cell_type": "code",
   "execution_count": 35,
   "metadata": {},
   "outputs": [
    {
     "name": "stdout",
     "output_type": "stream",
     "text": [
      "Original array:\n",
      "[37 31 21  2 25  6 16  5 11  0 18  7 24 26 27 35 23 34 15  9 36 14 32  3\n",
      " 39 22 10  8 38 12 30 28 29 13 19 17 20  1 33  4]\n",
      "enter value of n5\n",
      "[35 36 37 38 39]\n"
     ]
    }
   ],
   "source": [
    "arr5= np.arange(40)\n",
    "np.random.shuffle(arr5)\n",
    "print(\"Original array:\")\n",
    "print(arr5)\n",
    "n=int(input(\"enter value of n\"))\n",
    "print(arr5[np.argsort(arr5)[-n:]])"
   ]
  },
  {
   "cell_type": "markdown",
   "metadata": {},
   "source": [
    "# 15.How to create a record array from a regular array?"
   ]
  },
  {
   "cell_type": "code",
   "execution_count": 46,
   "metadata": {},
   "outputs": [
    {
     "name": "stdout",
     "output_type": "stream",
     "text": [
      "[(101, b'Tarun sharma ', 88.5) (102, b'Anyaa Tripathi', 81. )\n",
      " (103, b'Diljeet Singh', 91. )]\n"
     ]
    }
   ],
   "source": [
    "arra1 = np.array([(101,\"Tarun sharma \", 88.5),(102,\"Anyaa Tripathi\", 81),(103,\"Diljeet Singh\", 91)])\n",
    "result = np.core.records.fromarrays(arra1.T,\n",
    "                              names='col1, col2, col3',\n",
    "                              formats = 'i8,S80,f8')\n",
    "print(result)"
   ]
  },
  {
   "cell_type": "code",
   "execution_count": null,
   "metadata": {},
   "outputs": [],
   "source": []
  }
 ],
 "metadata": {
  "kernelspec": {
   "display_name": "Python 3",
   "language": "python",
   "name": "python3"
  },
  "language_info": {
   "codemirror_mode": {
    "name": "ipython",
    "version": 3
   },
   "file_extension": ".py",
   "mimetype": "text/x-python",
   "name": "python",
   "nbconvert_exporter": "python",
   "pygments_lexer": "ipython3",
   "version": "3.6.4"
  }
 },
 "nbformat": 4,
 "nbformat_minor": 2
}
