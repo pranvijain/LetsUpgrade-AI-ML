{
 "cells": [
  {
   "cell_type": "code",
   "execution_count": 5,
   "metadata": {},
   "outputs": [
    {
     "name": "stdout",
     "output_type": "stream",
     "text": [
      "[3, 5, 7, 11, 13, 17, 19]\n"
     ]
    }
   ],
   "source": [
    "l=range(2,21)\n",
    "m=[]\n",
    "for element in l:\n",
    "    flag=0\n",
    "    for i in range(2,element//2+1):\n",
    "        if element%i==0:flag=1\n",
    "    if flag==0 and element%2!=0:\n",
    "        m.append(element)\n",
    "print(m)"
   ]
  },
  {
   "cell_type": "code",
   "execution_count": 4,
   "metadata": {},
   "outputs": [
    {
     "name": "stdout",
     "output_type": "stream",
     "text": [
      "      \n",
      "character to counth\n",
      "count of  h 0\n",
      "character u want to findt\n",
      "index of  t -1\n",
      "empty\n",
      "after swapping EMPTY\n",
      "enter elements in listtrain to busan\n",
      "train#to#busan\n"
     ]
    }
   ],
   "source": [
    "str1=input()\n",
    "countit=input(\"character to count\")\n",
    "str2=''\n",
    "print(*[\"count of \",countit,str1.count(countit)])  \n",
    "x=input('character u want to find')\n",
    "print(*[\"index of \", x,str1.find(x)])    \n",
    "if str1.isalpha():        \n",
    "    str2=str1.lower()         \n",
    "elif str1.isdigit():      \n",
    "    str2=str1.zfill(10)\n",
    "elif str1.isalnum():        \n",
    "    str2=str1.upper()         \n",
    "elif str1.isprintable():\n",
    "    str2=str1\n",
    "elif str1.isspace():     \n",
    "    str2=str1.replace(str1,'empty')  \n",
    "print(str2)\n",
    "print(\"after swapping \"+str2.swapcase())\n",
    "lst=list(map(str,input(\"enter elements in list\").strip().split(' ')))\n",
    "new_str='#'.join(lst)\n",
    "print(new_str)"
   ]
  },
  {
   "cell_type": "code",
   "execution_count": 6,
   "metadata": {},
   "outputs": [
    {
     "name": "stdout",
     "output_type": "stream",
     "text": [
      "geeksforgeeks\n",
      "enter another stringforgeeksgeeks\n",
      "Given string is anagram\n"
     ]
    }
   ],
   "source": [
    "def palindrome(str1):\n",
    "    lst=len(str1)-1\n",
    "    flag=0\n",
    "    for i in range(len(str1)//2):\n",
    "        if str1[i]!=str1[lst]:\n",
    "            flag=1\n",
    "            break\n",
    "        lst-=1\n",
    "    if flag==0:\n",
    "        return True\n",
    "    return False\n",
    "def anagram(str1):\n",
    "    str2=input(\"enter another string\")\n",
    "    if sorted(str1)==sorted(str2):\n",
    "        return True\n",
    "    return False\n",
    "str1=input()\n",
    "if (palindrome(str1)):\n",
    "    print(\"Given string is palindrome\")\n",
    "elif(anagram(str1)):\n",
    "    print('Given string is anagram')\n",
    "else:\n",
    "    print(\"Given string is neither palindrome nor anagram\")"
   ]
  },
  {
   "cell_type": "code",
   "execution_count": 7,
   "metadata": {},
   "outputs": [
    {
     "name": "stdout",
     "output_type": "stream",
     "text": [
      "REMOVE _ ,' . etc. from this line.\n",
      "removeetcfromthisline\n"
     ]
    }
   ],
   "source": [
    "def strlower(str):\n",
    "    str1=''\n",
    "    for i in str:\n",
    "        if i.isalnum():\n",
    "            str1+=i\n",
    "        \n",
    "    return(str1.lower())\n",
    "str=input()\n",
    "print(strlower(str))"
   ]
  }
 ],
 "metadata": {
  "kernelspec": {
   "display_name": "Python 3",
   "language": "python",
   "name": "python3"
  },
  "language_info": {
   "codemirror_mode": {
    "name": "ipython",
    "version": 3
   },
   "file_extension": ".py",
   "mimetype": "text/x-python",
   "name": "python",
   "nbconvert_exporter": "python",
   "pygments_lexer": "ipython3",
   "version": "3.6.4"
  }
 },
 "nbformat": 4,
 "nbformat_minor": 2
}
