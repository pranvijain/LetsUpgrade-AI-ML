{
 "cells": [
  {
   "cell_type": "code",
   "execution_count": 1,
   "metadata": {},
   "outputs": [
    {
     "name": "stdout",
     "output_type": "stream",
     "text": [
      "PRANVI@GMAIL.COM\n"
     ]
    },
    {
     "data": {
      "text/plain": [
       "'GMAIL'"
      ]
     },
     "execution_count": 1,
     "metadata": {},
     "output_type": "execute_result"
    }
   ],
   "source": [
    "email=input()\n",
    "first,second=email.split('@')\n",
    "domain,end=second.split('.')\n",
    "domain"
   ]
  },
  {
   "cell_type": "code",
   "execution_count": 2,
   "metadata": {},
   "outputs": [
    {
     "name": "stdout",
     "output_type": "stream",
     "text": [
      "happy, birthday, to,me\n"
     ]
    },
    {
     "data": {
      "text/plain": [
       "' birthday, to,happy,me'"
      ]
     },
     "execution_count": 2,
     "metadata": {},
     "output_type": "execute_result"
    }
   ],
   "source": [
    "lst=list(map(str,input().split(',')))\n",
    "','.join(sorted(lst))"
   ]
  },
  {
   "cell_type": "code",
   "execution_count": 3,
   "metadata": {},
   "outputs": [
    {
     "name": "stdout",
     "output_type": "stream",
     "text": [
      "4 7 9 \n",
      "{1, 2, 3, 5, 6, 8}\n"
     ]
    }
   ],
   "source": [
    "lst=set(map(int,input().split()))\n",
    "set1=set(range(1, max(lst)+1))\n",
    "print(set1.difference(lst))\n"
   ]
  },
  {
   "cell_type": "code",
   "execution_count": 5,
   "metadata": {},
   "outputs": [
    {
     "name": "stdout",
     "output_type": "stream",
     "text": [
      "4 4 1 7 2 3 1 0 7 \n",
      "[4, 1, 7, 2, 3, 0]\n"
     ]
    }
   ],
   "source": [
    "lst=list(map(int,input().split()))\n",
    "newlst=list(dict.fromkeys(lst))\n",
    "print(newlst)"
   ]
  }
 ],
 "metadata": {
  "kernelspec": {
   "display_name": "Python 3",
   "language": "python",
   "name": "python3"
  },
  "language_info": {
   "codemirror_mode": {
    "name": "ipython",
    "version": 3
   },
   "file_extension": ".py",
   "mimetype": "text/x-python",
   "name": "python",
   "nbconvert_exporter": "python",
   "pygments_lexer": "ipython3",
   "version": "3.6.4"
  }
 },
 "nbformat": 4,
 "nbformat_minor": 2
}
