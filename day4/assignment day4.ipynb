{
 "cells": [
  {
   "cell_type": "code",
   "execution_count": 42,
   "metadata": {},
   "outputs": [
    {
     "name": "stdout",
     "output_type": "stream",
     "text": [
      "4-2j\n",
      "5-3j\n",
      "addition (9-5j) \n",
      "subtraction (-1+1j) \n",
      "multiplication (14-22j) \n",
      "division (0.7647058823529412+0.05882352941176469j)\n"
     ]
    }
   ],
   "source": [
    "a,b=complex(input()),complex(input())\n",
    "print(*[\"addition\",a+b,\"\\nsubtraction\",a-b,\"\\nmultiplication\",a*b,\"\\ndivision\",a/b])\n"
   ]
  },
  {
   "cell_type": "markdown",
   "metadata": {},
   "source": [
    "#range()\n",
    "class range(object)\n",
    " ___range(stop)___ -> range object\n",
    " ___range(start, stop[, step])___ -> range object\n",
    "Return an object that produces a sequence of integers from start (inclusive) to stop (exclusive) by step.\n",
    "range(i, j) produces i, i+1, i+2, ..., j-1.\n",
    "start defaults to 0, and stop is omitted!  range(4) produces 0, 1, 2, 3.\n",
    "These are exactly the valid indices for a list of 4 elements.\n",
    "When step is given, it specifies the increment (or decrement).\n"
   ]
  },
  {
   "cell_type": "code",
   "execution_count": 43,
   "metadata": {},
   "outputs": [
    {
     "name": "stdout",
     "output_type": "stream",
     "text": [
      "20\n",
      "2\n",
      "3\n",
      "5\n",
      "7\n",
      "11\n",
      "13\n",
      "17\n",
      "19\n"
     ]
    }
   ],
   "source": [
    "lst=range(2,int(input())+1) #print prime nos in a give range of integers\n",
    "\n",
    "for no in lst:\n",
    "    flag=0\n",
    "    for div in range(2,no//2+1):\n",
    "        if no%div==0:\n",
    "            flag=1\n",
    "            break\n",
    "    if flag==0:\n",
    "        print(no)"
   ]
  },
  {
   "cell_type": "code",
   "execution_count": 31,
   "metadata": {},
   "outputs": [
    {
     "name": "stdout",
     "output_type": "stream",
     "text": [
      "56 91\n",
      "5096\n"
     ]
    }
   ],
   "source": [
    "a,b=map(int,input().split())\n",
    "if abs(b-a)>25:\n",
    "    print(a*b)\n",
    "elif a!=0:\n",
    "    print(b/a)\n",
    "else:\n",
    "    print(\"division by zero is not defined\")\n"
   ]
  },
  {
   "cell_type": "code",
   "execution_count": 24,
   "metadata": {},
   "outputs": [
    {
     "name": "stdout",
     "output_type": "stream",
     "text": [
      "2 3 4 5 6 7 8 1 9 10\n",
      "2\n",
      "14\n",
      "34\n",
      "62\n",
      "98\n"
     ]
    }
   ],
   "source": [
    "lst=list(map(int,input().split()))\n",
    "for element in lst:\n",
    "         if element%2==0:\n",
    "             print(element**2-2)"
   ]
  },
  {
   "cell_type": "code",
   "execution_count": 28,
   "metadata": {},
   "outputs": [
    {
     "name": "stdout",
     "output_type": "stream",
     "text": [
      "34 6 28 16 9 18 75 12 18 37\n",
      "34\n",
      "28\n",
      "16\n",
      "18\n",
      "75\n",
      "18\n",
      "37\n"
     ]
    }
   ],
   "source": [
    "lst=list(map(int,input().split()))\n",
    "for element in lst:\n",
    "    if (element/2)>7:\n",
    "        print(element)"
   ]
  }
 ],
 "metadata": {
  "kernelspec": {
   "display_name": "Python 3",
   "language": "python",
   "name": "python3"
  },
  "language_info": {
   "codemirror_mode": {
    "name": "ipython",
    "version": 3
   },
   "file_extension": ".py",
   "mimetype": "text/x-python",
   "name": "python",
   "nbconvert_exporter": "python",
   "pygments_lexer": "ipython3",
   "version": "3.6.4"
  }
 },
 "nbformat": 4,
 "nbformat_minor": 2
}
