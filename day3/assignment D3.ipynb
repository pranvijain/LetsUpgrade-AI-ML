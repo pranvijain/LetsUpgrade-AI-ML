{
 "cells": [
  {
   "cell_type": "code",
   "execution_count": 2,
   "metadata": {},
   "outputs": [
    {
     "name": "stdout",
     "output_type": "stream",
     "text": [
      "3-2j\n",
      "4-5j\n",
      "(-1+3j)\n"
     ]
    }
   ],
   "source": [
    "print(complex(input())-complex(input())) #1ques"
   ]
  },
  {
   "cell_type": "code",
   "execution_count": 4,
   "metadata": {},
   "outputs": [
    {
     "name": "stdout",
     "output_type": "stream",
     "text": [
      "16\n",
      "2.0\n"
     ]
    }
   ],
   "source": [
    "print(int(input())**(1/4))#2ques"
   ]
  },
  {
   "cell_type": "code",
   "execution_count": 19,
   "metadata": {},
   "outputs": [
    {
     "name": "stdout",
     "output_type": "stream",
     "text": [
      "a is5\n",
      "b is76\n",
      "Now a is  76 \n",
      "b is 5\n"
     ]
    }
   ],
   "source": [
    "a=int(input(\"a is\"))\n",
    "b=int(input(\"b is\"))\n",
    "c=a\n",
    "a=b\n",
    "b=c\n",
    "print(*['Now a is ',a,'\\nb is',b]) #3 ques"
   ]
  },
  {
   "cell_type": "code",
   "execution_count": 26,
   "metadata": {},
   "outputs": [
    {
     "name": "stdout",
     "output_type": "stream",
     "text": [
      "34 6\n",
      "on swapping  6 34\n"
     ]
    }
   ],
   "source": [
    "a,b=map(int,input().split())\n",
    "a,b=b,a\n",
    "print(\"on swapping \",a,b)  #4ques"
   ]
  },
  {
   "cell_type": "code",
   "execution_count": 25,
   "metadata": {},
   "outputs": [
    {
     "name": "stdout",
     "output_type": "stream",
     "text": [
      "enter temp 67\n",
      "temparature in celcius 63.0 ℃ \n",
      " temparature in kelvin 336.0 K\n"
     ]
    }
   ],
   "source": [
    "import math\n",
    "f=float(input(\"enter temp \"))\n",
    "c=(f-32)*1.8\n",
    "print(*[\"temparature in celcius\",c,'\\u2103','\\ntemparature in kelvin',c+273,'K'])\n",
    "\n"
   ]
  },
  {
   "cell_type": "code",
   "execution_count": 1,
   "metadata": {},
   "outputs": [
    {
     "name": "stdout",
     "output_type": "stream",
     "text": [
      "datatypes <class 'str'> \n",
      "\n",
      "1 <class 'int'> \n",
      "\n",
      "(1+4j) <class 'complex'> \n",
      "\n",
      "40.67 <class 'float'> \n",
      "\n",
      "['car', 40] <class 'list'> \n",
      "\n",
      "('apple', 'grapes') <class 'tuple'> \n",
      "\n",
      "{'name': 'Payal', 'age': 5} <class 'dict'> \n",
      "\n",
      "{1, 5, 9, 7} <class 'set'> \n",
      "\n",
      "b'100' <class 'bytes'> \n",
      "\n",
      "True <class 'bool'> \n",
      "\n",
      "range(0, 50) <class 'range'> \n",
      "\n",
      "None <class 'NoneType'> \n",
      "\n"
     ]
    }
   ],
   "source": [
    "lst=[\"datatypes\",1,1+4j,40.67,['car',40],('apple','grapes'),{'name':'Payal','age':5},{1,5,7,9},b'100',True,range(50),None]\n",
    "for element in lst:\n",
    "    print(*[element,type(element),\"\\n\"])\n"
   ]
  },
  {
   "cell_type": "markdown",
   "metadata": {},
   "source": [
    " #STEP1\n",
    "Head over to webpage ##https://github.com/.\n",
    "#STEP2\n",
    "Pick a username, enter your email address, and choose a (strong) password\n",
    "and click sign up.\n",
    "#STEP3\n",
    "Create a Github public repo and name it ___LetsUpgradeAI/ML___.\n",
    "#STEP4\n",
    "Upload the files in the repo in day wise manner.\n",
    "#STEP5\n",
    "copy the URL of the folder of the day and paste in the Google form."
   ]
  },
  {
   "cell_type": "code",
   "execution_count": null,
   "metadata": {},
   "outputs": [],
   "source": []
  }
 ],
 "metadata": {
  "kernelspec": {
   "display_name": "Python 3",
   "language": "python",
   "name": "python3"
  },
  "language_info": {
   "codemirror_mode": {
    "name": "ipython",
    "version": 3
   },
   "file_extension": ".py",
   "mimetype": "text/x-python",
   "name": "python",
   "nbconvert_exporter": "python",
   "pygments_lexer": "ipython3",
   "version": "3.6.4"
  }
 },
 "nbformat": 4,
 "nbformat_minor": 2
}
